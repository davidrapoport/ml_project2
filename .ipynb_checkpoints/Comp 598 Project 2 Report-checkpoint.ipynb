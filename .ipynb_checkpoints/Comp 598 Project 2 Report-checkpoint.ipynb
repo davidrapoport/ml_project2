{
 "cells": [
  {
   "cell_type": "markdown",
   "metadata": {},
   "source": [
    "# SVMen\n",
    "---\n",
    "### Comp 598 - Machine Learning - Project 2 Report\n",
    "### David Rapoport, Ethan Macdonald, Charlie Bloomfield\n",
    "\n",
    "---\n",
    "##### 1. Introduction\n",
    "In this report, we discuss our methods for classifying NPR interviews from their text content into one of four categories: Author Interviews, Movie Interviews, Music Interviews, and Interviews. Given a raw, tagged dataset 54,000 interviews, we implement three vectorizing techniques: TFIDF, Bag of Words, and nGrams. We then train several models: scikit learns SVC (Support Vector Classifier), Naive Bayes implemented by our team, and K Nearest Neighbor implemented by our team. Using standard cross validation techniques, we isolate scikit learn's SVC as our best classifier. We then tune our selection techniques to improve the classification performance of this model.\n",
    "\n",
    "---\n",
    "##### 2. Data Preprocessing\n",
    "David\n",
    "\n",
    "---\n",
    "##### 3. Feature Design and Selection\n",
    "David\n",
    "\n",
    "---\n",
    "##### 4. Algorithm Selection\n",
    "\n",
    "---\n",
    "##### 5. Optimization\n",
    "\n",
    "---\n",
    "##### 6. Parameter Selection\n",
    "\n",
    "---\n",
    "##### 7. Testing and Validation\n",
    "\n",
    "---\n",
    "##### 8. Further Discussion\n",
    "\n",
    "---\n",
    "##### 9. References\n"
   ]
  },
  {
   "cell_type": "code",
   "execution_count": null,
   "metadata": {
    "collapsed": true
   },
   "outputs": [],
   "source": []
  }
 ],
 "metadata": {
  "kernelspec": {
   "display_name": "Python 2",
   "language": "python",
   "name": "python2"
  },
  "language_info": {
   "codemirror_mode": {
    "name": "ipython",
    "version": 2
   },
   "file_extension": ".py",
   "mimetype": "text/x-python",
   "name": "python",
   "nbconvert_exporter": "python",
   "pygments_lexer": "ipython2",
   "version": "2.7.10"
  }
 },
 "nbformat": 4,
 "nbformat_minor": 0
}
