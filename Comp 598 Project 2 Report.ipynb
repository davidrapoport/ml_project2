{
 "cells": [
  {
   "cell_type": "markdown",
   "metadata": {},
   "source": [
    "# SVMen - Comp 598 - Machine Learning - Project 2 Report\n",
    "\n",
    "---\n",
    "### David Rapoport, Ethan Macdonald, Charlie Bloomfield\n",
    "\n",
    "---\n",
    "### 1. Introduction\n",
    "In this report, we discuss our methods for classifying NPR interviews from their text content into one of four categories: Author Interviews, Movie Interviews, Music Interviews, and Interviews. Given a raw, tagged dataset 54,000 interviews, we implement three vectorizing techniques: TFIDF, Bag of Words, and nGrams. We then train several models: scikit learns SVC (Support Vector Classifier), Naive Bayes implemented by our team, and K Nearest Neighbor implemented by our team. Using standard cross validation techniques, we isolate scikit learn's SVC as our best classifier. We then tune our selection techniques to improve the classification performance of this model.\n",
    "\n",
    "---\n",
    "### 2. Data Preprocessing\n",
    "David\n",
    "\n",
    "---\n",
    "### 3. Feature Design and Selection\n",
    "David\n",
    "\n",
    "---\n",
    "### 4. Algorithm Selection\n",
    "\n",
    "##### 4.1 Naive Bayes\n",
    "David\n",
    "\n",
    "\n",
    "##### 4.2 K Nearest Neighbor\n",
    "We implemented K Nearest Neighbor as our standard algorithm, chosen for its implementation simplicity. \n",
    "\n",
    "\n",
    "---\n",
    "### 5. Optimization\n",
    "\n",
    "---\n",
    "### 6. Parameter Selection\n",
    "\n",
    "---\n",
    "### 7. Testing and Validation\n",
    "\n",
    "---\n",
    "### 8. Further Discussion\n",
    "\n",
    "---\n",
    "### 9. Legal Shit\n",
    "We hereby state that all the work presented in this report is that of the authors.\n",
    "\n",
    "---\n",
    "### 10. References\n"
   ]
  },
  {
   "cell_type": "code",
   "execution_count": null,
   "metadata": {
    "collapsed": true
   },
   "outputs": [],
   "source": []
  }
 ],
 "metadata": {
  "kernelspec": {
   "display_name": "Python 2",
   "language": "python",
   "name": "python2"
  },
  "language_info": {
   "codemirror_mode": {
    "name": "ipython",
    "version": 2
   },
   "file_extension": ".py",
   "mimetype": "text/x-python",
   "name": "python",
   "nbconvert_exporter": "python",
   "pygments_lexer": "ipython2",
   "version": "2.7.10"
  }
 },
 "nbformat": 4,
 "nbformat_minor": 0
}
